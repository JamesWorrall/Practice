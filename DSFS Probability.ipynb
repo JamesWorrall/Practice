{
 "cells": [
  {
   "cell_type": "code",
   "execution_count": 45,
   "id": "pressing-trigger",
   "metadata": {},
   "outputs": [
    {
     "data": {
      "text/plain": [
       "'Basic Demonstration of Probability'"
      ]
     },
     "execution_count": 45,
     "metadata": {},
     "output_type": "execute_result"
    }
   ],
   "source": [
    "\"\"\"Basic Demonstration of Probability\"\"\""
   ]
  },
  {
   "cell_type": "code",
   "execution_count": 46,
   "id": "varied-cisco",
   "metadata": {},
   "outputs": [],
   "source": [
    "import enum\n",
    "import random"
   ]
  },
  {
   "cell_type": "code",
   "execution_count": 47,
   "id": "statistical-buddy",
   "metadata": {},
   "outputs": [],
   "source": [
    "class Kid(enum.Enum):\n",
    "    BOY = 0\n",
    "    GIRL = 1"
   ]
  },
  {
   "cell_type": "code",
   "execution_count": 48,
   "id": "limiting-juvenile",
   "metadata": {},
   "outputs": [],
   "source": [
    "def random_kid() -> Kid:\n",
    "    return random.choice([Kid.BOY, Kid.GIRL])"
   ]
  },
  {
   "cell_type": "code",
   "execution_count": 49,
   "id": "greatest-violence",
   "metadata": {},
   "outputs": [],
   "source": [
    "both_girls = 0\n",
    "older_girl = 0\n",
    "either_girl = 0"
   ]
  },
  {
   "cell_type": "code",
   "execution_count": 50,
   "id": "retired-joint",
   "metadata": {},
   "outputs": [],
   "source": [
    "random.seed(0)"
   ]
  },
  {
   "cell_type": "code",
   "execution_count": 51,
   "id": "mineral-desperate",
   "metadata": {},
   "outputs": [],
   "source": [
    "for _ in range(10000):\n",
    "    younger = random_kid()\n",
    "    older = random_kid()\n",
    "    if older == Kid.GIRL:\n",
    "        older_girl += 1\n",
    "    if older == Kid.GIRL and younger == Kid.GIRL:\n",
    "        both_girls += 1\n",
    "    if older == Kid.GIRL or younger == Kid.GIRL:\n",
    "        either_girl += 1"
   ]
  },
  {
   "cell_type": "code",
   "execution_count": 52,
   "id": "african-insider",
   "metadata": {},
   "outputs": [
    {
     "name": "stdout",
     "output_type": "stream",
     "text": [
      "P(both | older): 0.5007089325501317\n",
      "P(both | either): 0.3311897106109325\n"
     ]
    }
   ],
   "source": [
    "print(\"P(both | older):\", both_girls / older_girl)\n",
    "print(\"P(both | either):\", both_girls / either_girl)"
   ]
  },
  {
   "cell_type": "code",
   "execution_count": null,
   "id": "opened-treasure",
   "metadata": {},
   "outputs": [],
   "source": []
  },
  {
   "cell_type": "code",
   "execution_count": 53,
   "id": "caroline-amino",
   "metadata": {},
   "outputs": [
    {
     "data": {
      "text/plain": [
       "'Continuous Distributions'"
      ]
     },
     "execution_count": 53,
     "metadata": {},
     "output_type": "execute_result"
    }
   ],
   "source": [
    "\"\"\"Continuous Distributions\"\"\""
   ]
  },
  {
   "cell_type": "code",
   "execution_count": 54,
   "id": "fourth-receipt",
   "metadata": {},
   "outputs": [],
   "source": [
    "def uniform_pdf(x: float) -> float:\n",
    "    return 1 if 0 <= x < 1 else 0"
   ]
  },
  {
   "cell_type": "code",
   "execution_count": 55,
   "id": "noticed-configuration",
   "metadata": {},
   "outputs": [],
   "source": [
    "def uniform_cdf(x: float) -> float:\n",
    "    \"\"\"returns the probability that a uniform random variable is <= x\"\"\"\n",
    "    if x < 0: return 0 #uniform random is never less than 0\n",
    "    elif x < 1: return x #e.g. P(X <= 0.4) = 0.4\n",
    "    else: return 1 #uniform random is always less than 1"
   ]
  },
  {
   "cell_type": "code",
   "execution_count": null,
   "id": "ambient-criminal",
   "metadata": {},
   "outputs": [],
   "source": []
  },
  {
   "cell_type": "code",
   "execution_count": 56,
   "id": "creative-cambodia",
   "metadata": {},
   "outputs": [
    {
     "data": {
      "text/plain": [
       "'The Normal Distribution'"
      ]
     },
     "execution_count": 56,
     "metadata": {},
     "output_type": "execute_result"
    }
   ],
   "source": [
    "\"\"\"The Normal Distribution\"\"\""
   ]
  },
  {
   "cell_type": "code",
   "execution_count": 57,
   "id": "heavy-acquisition",
   "metadata": {},
   "outputs": [],
   "source": [
    "import math\n",
    "SQRT_TWO_PI = math.sqrt(2 * math.pi)"
   ]
  },
  {
   "cell_type": "code",
   "execution_count": 58,
   "id": "confident-antenna",
   "metadata": {},
   "outputs": [],
   "source": [
    "def normal_pdf(x: float, mu: float = 0, sigma: float = 1) -> float:\n",
    "    return(math.exp(-(x - mu) ** 2 / 2 / sigma ** 2) / (SQRT_TWO_PI * sigma))"
   ]
  },
  {
   "cell_type": "code",
   "execution_count": 59,
   "id": "desperate-comment",
   "metadata": {},
   "outputs": [
    {
     "name": "stdout",
     "output_type": "stream",
     "text": [
      "Requirement already satisfied: matplotlib in c:\\users\\worra\\appdata\\roaming\\python\\python39\\site-packages (3.3.4)\n",
      "Requirement already satisfied: numpy>=1.15 in c:\\users\\worra\\appdata\\roaming\\python\\python39\\site-packages (from matplotlib) (1.20.0)\n",
      "Requirement already satisfied: pillow>=6.2.0 in c:\\users\\worra\\appdata\\roaming\\python\\python39\\site-packages (from matplotlib) (8.1.0)\n",
      "Requirement already satisfied: kiwisolver>=1.0.1 in c:\\users\\worra\\appdata\\roaming\\python\\python39\\site-packages (from matplotlib) (1.3.1)\n",
      "Requirement already satisfied: python-dateutil>=2.1 in c:\\users\\worra\\appdata\\local\\programs\\python\\python39\\lib\\site-packages (from matplotlib) (2.8.1)\n",
      "Requirement already satisfied: pyparsing!=2.0.4,!=2.1.2,!=2.1.6,>=2.0.3 in c:\\users\\worra\\appdata\\local\\programs\\python\\python39\\lib\\site-packages (from matplotlib) (2.4.7)\n",
      "Requirement already satisfied: cycler>=0.10 in c:\\users\\worra\\appdata\\roaming\\python\\python39\\site-packages (from matplotlib) (0.10.0)\n",
      "Requirement already satisfied: six in c:\\users\\worra\\appdata\\local\\programs\\python\\python39\\lib\\site-packages (from cycler>=0.10->matplotlib) (1.15.0)\n",
      "Note: you may need to restart the kernel to use updated packages.\n"
     ]
    }
   ],
   "source": [
    "pip install matplotlib"
   ]
  },
  {
   "cell_type": "code",
   "execution_count": 60,
   "id": "reported-occupation",
   "metadata": {},
   "outputs": [
    {
     "data": {
      "image/png": "[encoded data removed]",
      "text/plain": [
       "<Figure size 432x288 with 1 Axes>"
      ]
     },
     "metadata": {
      "needs_background": "light"
     },
     "output_type": "display_data"
    }
   ],
   "source": [
    "\"\"\"Plot PDFs\"\"\"\n",
    "import matplotlib.pyplot as plt\n",
    "xs = [x / 10.0 for x in range(-50, 50)]\n",
    "plt.plot(xs, [normal_pdf(x, sigma = 1) for x in xs], '-', label = 'mu = 0, sigma = 1')\n",
    "plt.plot(xs, [normal_pdf(x, sigma = 2) for x in xs], '--', label = 'mu = 0, sigma = 2')\n",
    "plt.plot(xs, [normal_pdf(x, sigma = 0.5) for x in xs], ':', label = 'mu = 0, sigma = 0.5')\n",
    "plt.plot(xs, [normal_pdf(x, mu = -1) for x in xs], '-.', label = 'mu = -1, sigma = 1')\n",
    "plt.legend()\n",
    "plt.title('Various Normal PDFs')\n",
    "plt.show()"
   ]
  },
  {
   "cell_type": "code",
   "execution_count": null,
   "id": "harmful-australia",
   "metadata": {},
   "outputs": [],
   "source": []
  },
  {
   "cell_type": "code",
   "execution_count": 61,
   "id": "neutral-indianapolis",
   "metadata": {},
   "outputs": [
    {
     "data": {
      "text/plain": [
       "'Plotting Normal CDFs'"
      ]
     },
     "execution_count": 61,
     "metadata": {},
     "output_type": "execute_result"
    }
   ],
   "source": [
    "\"\"\"Plotting Normal CDFs\"\"\""
   ]
  },
  {
   "cell_type": "code",
   "execution_count": 62,
   "id": "colonial-exhaust",
   "metadata": {},
   "outputs": [],
   "source": [
    "def normal_cdf(x: float = 0, mu: float = 0, sigma: float = 1) -> float:\n",
    "    return (1 + math.erf((x - mu) / math.sqrt(2) / sigma)) / 2"
   ]
  },
  {
   "cell_type": "code",
   "execution_count": 63,
   "id": "brown-isolation",
   "metadata": {},
   "outputs": [
    {
     "data": {
      "image/png": "[encoded data removed]",
      "text/plain": [
       "<Figure size 432x288 with 1 Axes>"
      ]
     },
     "metadata": {
      "needs_background": "light"
     },
     "output_type": "display_data"
    }
   ],
   "source": [
    "xs = [x / 10.0 for x in range(-50, 50)]\n",
    "plt.plot(xs, [normal_cdf(x, sigma = 1) for x in xs], '-', label = 'mu = 0, sigma = 1')\n",
    "plt.plot(xs, [normal_cdf(x, sigma = 2) for x in xs], '--', label = 'mu = 0, sigma = 2')\n",
    "plt.plot(xs, [normal_cdf(x, sigma = 0.5) for x in xs], ':', label = 'mu = 0, sigma = 0.5')\n",
    "plt.plot(xs, [normal_cdf(x, mu = -1) for x in xs], '-.', label = 'mu = -1, sigma = 1')\n",
    "plt.legend(loc = 4) #bottom right\n",
    "plt.title(\"Various Normal CDFs\")\n",
    "plt.show()"
   ]
  },
  {
   "cell_type": "code",
   "execution_count": null,
   "id": "furnished-volunteer",
   "metadata": {},
   "outputs": [],
   "source": []
  },
  {
   "cell_type": "code",
   "execution_count": 64,
   "id": "focused-cartoon",
   "metadata": {},
   "outputs": [],
   "source": [
    "def inverse_normal_cdf(p: float,\n",
    "                      mu: float = 0,\n",
    "                      sigma: float = 1,\n",
    "                      tolerance: float = 0.00001) -> float:\n",
    "    \"\"\"Find aproximate inverse using binary search\"\"\"\n",
    "    \n",
    "    #if not standard, computue standard and rescale\n",
    "    if mu != 0 or sigma != 1:\n",
    "        return mu + sigma * inverse_normal_cdf(p, tolerance = tolerance)\n",
    "    low_z = -10.0\n",
    "    hi_z = 10.0\n",
    "    while hi_z - low_z > tolerance:\n",
    "        mid_z = (low_z + hi_z) / 2        #Consider the midpoint\n",
    "        mid_p = normal_cdf(mid_z)         #and the CDF's value there\n",
    "        if mid_p < p:\n",
    "            low_z = mid_z                 #Midpoint too low, search above\n",
    "        else:\n",
    "            hi_z = mid_z                  #Midpoint too high, search below it\n",
    "    return mid_z"
   ]
  },
  {
   "cell_type": "code",
   "execution_count": 65,
   "id": "banner-keeping",
   "metadata": {},
   "outputs": [
    {
     "data": {
      "text/plain": [
       "9.999990463256836"
      ]
     },
     "execution_count": 65,
     "metadata": {},
     "output_type": "execute_result"
    }
   ],
   "source": [
    "inverse_normal_cdf(p = 95)"
   ]
  },
  {
   "cell_type": "code",
   "execution_count": null,
   "id": "infectious-african",
   "metadata": {},
   "outputs": [],
   "source": []
  },
  {
   "cell_type": "code",
   "execution_count": 66,
   "id": "attached-portable",
   "metadata": {},
   "outputs": [
    {
     "data": {
      "text/plain": [
       "'The Central Limit Theorem'"
      ]
     },
     "execution_count": 66,
     "metadata": {},
     "output_type": "execute_result"
    }
   ],
   "source": [
    "\"\"\"The Central Limit Theorem\"\"\""
   ]
  },
  {
   "cell_type": "code",
   "execution_count": 67,
   "id": "norwegian-offer",
   "metadata": {},
   "outputs": [],
   "source": [
    "def bernoulli_trial(p: float) -> int:\n",
    "    \"\"\"Returns 1 with probability p and 0 with probability 1-p\"\"\"\n",
    "    return 1 if random.random() < p else 0"
   ]
  },
  {
   "cell_type": "code",
   "execution_count": 68,
   "id": "individual-density",
   "metadata": {},
   "outputs": [],
   "source": [
    "def binomial(n: int, p: float) -> int:\n",
    "    \"\"\"Returns the sum of n bernoulli(p) trials\"\"\"\n",
    "    return sum(bernoulli_trial(p) for _ in range(n))"
   ]
  },
  {
   "cell_type": "code",
   "execution_count": 69,
   "id": "daily-cigarette",
   "metadata": {},
   "outputs": [
    {
     "data": {
      "text/plain": [
       "9"
      ]
     },
     "execution_count": 69,
     "metadata": {},
     "output_type": "execute_result"
    }
   ],
   "source": [
    "binomial(n = 10, p = 0.55) #Test"
   ]
  },
  {
   "cell_type": "code",
   "execution_count": 73,
   "id": "crazy-arlington",
   "metadata": {},
   "outputs": [],
   "source": [
    "from collections import Counter\n",
    "\n",
    "def binomial_histogram(p: float, n: int, num_points: int) -> None:\n",
    "    \"\"\"Picks points rom a Binomial(n,p) and plots their histogram\"\"\"\n",
    "    data = [binomial(n, p) for _ in range(num_points)]\n",
    "    \n",
    "    #use a bar chart to show the actual binomial samples\n",
    "    histogram = Counter(data)\n",
    "    plt.bar([x - 0.4 for x in histogram.keys()],\n",
    "           [v / num_points for v in histogram.values()],\n",
    "           0.8,\n",
    "           color = '0.75')\n",
    "    \n",
    "    mu = p * n\n",
    "    sigma = math.sqrt(n * p * (1 - p))\n",
    "    \n",
    "    #use a line chart to show the normal approximation\n",
    "    xs = range(min(data), max(data) + 1)\n",
    "    ys = [normal_cdf(i + 0.5, mu, sigma) - normal_cdf(i - 0.5, mu, sigma) for i in xs]\n",
    "    plt.plot(xs, ys)\n",
    "    plt.title(\"Binomial Distribution vs Normal Approximation\")\n",
    "    plt.show()\n",
    "    "
   ]
  },
  {
   "cell_type": "code",
   "execution_count": 75,
   "id": "consistent-transparency",
   "metadata": {},
   "outputs": [
    {
     "data": {
      "image/png": "[encoded data removed]",
      "text/plain": [
       "<Figure size 432x288 with 1 Axes>"
      ]
     },
     "metadata": {
      "needs_background": "light"
     },
     "output_type": "display_data"
    }
   ],
   "source": [
    "binomial_histogram(0.75, 100, 10000)"
   ]
  },
  {
   "cell_type": "code",
   "execution_count": null,
   "id": "wrapped-courage",
   "metadata": {},
   "outputs": [],
   "source": []
  }
 ],
 "metadata": {
  "kernelspec": {
   "display_name": "Python 3",
   "language": "python",
   "name": "python3"
  },
  "language_info": {
   "codemirror_mode": {
    "name": "ipython",
    "version": 3
   },
   "file_extension": ".py",
   "mimetype": "text/x-python",
   "name": "python",
   "nbconvert_exporter": "python",
   "pygments_lexer": "ipython3",
   "version": "3.9.1"
  }
 },
 "nbformat": 4,
 "nbformat_minor": 5
}
